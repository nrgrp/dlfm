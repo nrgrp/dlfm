{
 "cells": [
  {
   "cell_type": "markdown",
   "id": "9f6850e8-0ced-4735-9b6c-7ceda2919111",
   "metadata": {},
   "source": [
    "# Multi-convex Programming for Discrete Latent Factor Models Prototyping"
   ]
  },
  {
   "cell_type": "code",
   "execution_count": null,
   "id": "initial_id",
   "metadata": {
    "ExecuteTime": {
     "end_time": "2025-02-24T11:24:11.123882Z",
     "start_time": "2025-02-24T11:24:11.057123Z"
    }
   },
   "outputs": [],
   "source": [
    "import numpy as np\n",
    "import cvxpy as cp\n",
    "\n",
    "### problem data\n",
    "xs = None  # ndarray: dataset features\n",
    "ys = None  # ndarray: dataset observations\n",
    "m = None  # int: number of samples in the dataset\n",
    "\n",
    "### hyperparameters\n",
    "eps = 1e-6  # float: termination criterion\n",
    "\n",
    "### P-problem\n",
    "K = None  # int: number of latent factors\n",
    "thetas = []  # list of cp.Variable objects: model parameters\n",
    "r = []  # list of cp.Expression objects: loss functions\n",
    "\n",
    "ztil = cp.Parameter((m, K), nonneg=True)\n",
    "Pobj = cp.sum(cp.multiply(ztil, cp.vstack(r).T))\n",
    "Preg = 0  # cp.Expression: regularization on model parameters\n",
    "Pconstr = []  # list of cp.Constraint objects: model parameter constraints\n",
    "Pprob = cp.Problem(cp.Minimize(Pobj + Preg), Pconstr)\n",
    "assert Pprob.is_dcp()\n",
    "\n",
    "### F-problem\n",
    "rtil = cp.Parameter((K, m))\n",
    "z = cp.Variable((m, K))\n",
    "Fobj = cp.sum(cp.multiply(z, rtil.T))\n",
    "Freg = 0  # cp.Expression: regularization on latent factors\n",
    "Fconstr = [z >= 0, z <= 1, cp.sum(z, axis=1) == 1]\n",
    "Fprob = cp.Problem(cp.Minimize(Fobj + Freg), Fconstr)\n",
    "assert Fprob.is_dcp()\n",
    "\n",
    "### solve, terminate when the F- and P-objective converge\n",
    "while True:\n",
    "    if ztil.value is None:\n",
    "        ztil.value = np.random.dirichlet(np.ones(K), size=m)\n",
    "    else:\n",
    "        ztil.value = np.abs(z.value)\n",
    "    Pprob.solve()\n",
    "\n",
    "    rtil.value = cp.vstack(r).value\n",
    "    Fprob.solve()\n",
    "\n",
    "    if np.abs(Pobj.value - Fobj.value) < eps:\n",
    "        break"
   ]
  }
 ],
 "metadata": {
  "kernelspec": {
   "display_name": "Python 3 (ipykernel)",
   "language": "python",
   "name": "python3"
  },
  "language_info": {
   "codemirror_mode": {
    "name": "ipython",
    "version": 3
   },
   "file_extension": ".py",
   "mimetype": "text/x-python",
   "name": "python",
   "nbconvert_exporter": "python",
   "pygments_lexer": "ipython3",
   "version": "3.12.9"
  }
 },
 "nbformat": 4,
 "nbformat_minor": 5
}
